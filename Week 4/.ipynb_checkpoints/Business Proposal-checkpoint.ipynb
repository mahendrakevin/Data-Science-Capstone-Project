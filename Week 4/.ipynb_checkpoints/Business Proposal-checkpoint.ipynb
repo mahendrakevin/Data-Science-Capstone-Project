{
 "cells": [
  {
   "cell_type": "markdown",
   "metadata": {},
   "source": [
    "# Week 4 | The Battle of Neighborhoods | Business Proposal | Introduction"
   ]
  },
  {
   "cell_type": "markdown",
   "metadata": {},
   "source": [
    "## Project Introduction:\n",
    "\n",
    "The purpose of this Project is to analyze crime incident around their venue. It will help people understanding which venue that have a high rate of crime in Toronto, Ontario, Canada.\n",
    "\n",
    "This Project aim to create an analysis of features for a person to be carefully at venues as a comparative analysis between crimes incident place. The features include crime place, crime rates, date of incident. It will help people to anticipate possibility of crime near venues.\n",
    "\n",
    "\n",
    "## Problem to be resolved:\n",
    "\n",
    "The major purpose of this project, is to segment a crime incident arround Toronto.\n",
    "\n",
    "1. Which is the closest place to a crime?\n",
    "2. What categories of crime are contain in each venues?\n",
    "\n",
    "\n",
    "## Location:\n",
    "Toronto is Canada’s largest city and a world leader in such areas as business, finance, technology, entertainment and culture. As a result, it is one of the most diverse and multicultural areas in the Ontario, being home to various religious groups and places of worship. \n",
    "\n",
    "\n",
    "## Foursquare API:\n",
    "This project would use Four-square API as its prime data gathering source as it has a database of millions of places, especially their places API which provides the ability to perform location search, location sharing and details about a business.\n",
    "\n",
    "\n",
    "## Work Flow:\n",
    "Using credentials of Foursquare API features of near-by places of the neighborhoods would be mined. Due to http request limitations the number of places per neighborhood parameter would reasonably be set to 1000 and the radius parameter would be set to 100.\n",
    "\n",
    "\n",
    "## Clustering Approach:\n",
    "To compare the similarities of two regions, we decided to explore neighborhoods, segment them, and group them into clusters to find similar neighborhoods in a big city like New York and San Francisco. To be able to do that, we need to cluster data which is a form of unsupervised machine learning: k-means clustering algorithm\n",
    "\n",
    "\n",
    "## Libraries Used:\n",
    "Pandas: For creating and manipulating dataframes.\n",
    "\n",
    "Folium: Python visualization library would be used to visualize the neighborhoods cluster distribution of using interactive leaflet map.\n",
    "\n",
    "Scikit Learn: For importing k-means clustering.\n",
    "\n",
    "Geocoder: To retrieve Location Data.\n",
    "\n",
    "Matplotlib & Seaborn: Python Plotting Module.\n",
    "\n",
    "JSON: Library to handle JSON files."
   ]
  }
 ],
 "metadata": {
  "kernelspec": {
   "display_name": "Python 3",
   "language": "python",
   "name": "python3"
  },
  "language_info": {
   "codemirror_mode": {
    "name": "ipython",
    "version": 3
   },
   "file_extension": ".py",
   "mimetype": "text/x-python",
   "name": "python",
   "nbconvert_exporter": "python",
   "pygments_lexer": "ipython3",
   "version": "3.8.4"
  }
 },
 "nbformat": 4,
 "nbformat_minor": 4
}
